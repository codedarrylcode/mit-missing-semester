{
 "cells": [
  {
   "cell_type": "markdown",
   "metadata": {
    "heading_collapsed": true
   },
   "source": [
    "# Logging in Python\n",
    "\n",
    "<hr>"
   ]
  },
  {
   "cell_type": "markdown",
   "metadata": {
    "heading_collapsed": true,
    "hidden": true
   },
   "source": [
    "## Logging levels\n",
    "\n",
    "| Level| Description |\n",
    "| :--- | :---------- |\n",
    "| `DEBUG` | Detailed information, typically of interest only when diagnosing problems |\n",
    "| `INFO` | Confirmation that things are working as expected |\n",
    "| `WARNING` | An indication that something unexpected happened, or indicative of some problem in the near future (*e.g. 'disk space low'*). The software is still working as expected | \n",
    "| `ERROR` | Due to a more serious problem, the software has not been able to perform some function | \n",
    "| `CRITICAL` | A serious error, indicating that the program itself may be unable to continue running |\n",
    "\n",
    "By default, default logging levels are set to `WARNING` and will log levels below it as well, i.e. `ERROR` & `CRITICAL`\n",
    "\n",
    "****\n",
    "\n",
    "**Sample code**\n",
    "\n",
    "```python\n",
    "# import library\n",
    "import logging\n",
    "\n",
    "# get logger\n",
    "logger = logging.getLogger(__name__) # gets the name of .py file when imported instead of 'root'\n",
    "logger.setLevel(logging.DEBUG)       # set level\n",
    "\n",
    "# define a formatter\n",
    "formatter = logging.Formatter('%(asctime)s:%(levelname)s:%(name)s:%(message)s')\n",
    "\n",
    "# use a file handler\n",
    "file_handler = logging.FileHandler('sample.log')\n",
    "file_handler.setLevel(logging.ERROR) # keeps logger level at DEBUG but only capture ERROR statements\n",
    "file_handler.setFormatter(formatter)\n",
    "\n",
    "# use a stream handler to output logs into console when code is executed\n",
    "stream_handler = logging.StreamHandler()\n",
    "stream_handler.setFormatter(formatter)\n",
    "\n",
    "# add handlers\n",
    "logger.addHandler(file_handler)\n",
    "logger.addHandler(stream_handler)\n",
    "\n",
    "# define a simple function\n",
    "def divide(x, y):\n",
    "    try:\n",
    "        result = x / y\n",
    "    except ZeroDivisionError:\n",
    "        logger.exception('Tried to divide by zero') # logs error with traceback message\n",
    "    else:\n",
    "        return result\n",
    "\n",
    "# execute function\n",
    "# logs into 'sample.log' and also displays into console\n",
    "divide(10, 0)\n",
    "\n",
    "\"\"\"\n",
    "Traceback (most recent call last):\n",
    "    File \"/.\", line x, in divide\n",
    "        result = x / y\n",
    "ZeroDivisionError: division by zero\n",
    "\"\"\"\n",
    "```\n",
    "\n",
    "****\n",
    "\n",
    "**References**\n",
    "\n",
    "- [Logging HOWTO - Python 3](https://docs.python.org/3/howto/logging.html)\n",
    "- [`LogRecords` Attributes](https://docs.python.org/3/library/logging.html#logrecord-attributes)\n",
    "- [Logging with `ElasticSearch`](https://docs.python.org/3/library/logging.html#logrecord-attributes)\n",
    "\n",
    "****"
   ]
  },
  {
   "cell_type": "markdown",
   "metadata": {
    "heading_collapsed": true
   },
   "source": [
    "# Basic code\n",
    "A `minimal, reproducible example`"
   ]
  },
  {
   "cell_type": "code",
   "execution_count": null,
   "metadata": {
    "hidden": true
   },
   "outputs": [],
   "source": []
  }
 ],
 "metadata": {
  "kernelspec": {
   "display_name": "Python 3 (ipykernel)",
   "language": "python",
   "name": "python3"
  },
  "language_info": {
   "codemirror_mode": {
    "name": "ipython",
    "version": 3
   },
   "file_extension": ".py",
   "mimetype": "text/x-python",
   "name": "python",
   "nbconvert_exporter": "python",
   "pygments_lexer": "ipython3",
   "version": "3.9.7"
  },
  "toc": {
   "base_numbering": 1,
   "nav_menu": {},
   "number_sections": true,
   "sideBar": true,
   "skip_h1_title": false,
   "title_cell": "Table of Contents",
   "title_sidebar": "Contents",
   "toc_cell": false,
   "toc_position": {},
   "toc_section_display": true,
   "toc_window_display": false
  }
 },
 "nbformat": 4,
 "nbformat_minor": 2
}
