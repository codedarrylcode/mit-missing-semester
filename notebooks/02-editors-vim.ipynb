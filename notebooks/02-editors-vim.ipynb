{
 "cells": [
  {
   "cell_type": "markdown",
   "metadata": {
    "heading_collapsed": true
   },
   "source": [
    "# Vim as a text editor\n",
    "\n",
    "<hr>"
   ]
  },
  {
   "cell_type": "markdown",
   "metadata": {
    "hidden": true
   },
   "source": [
    "## Useful keys/commands for Vim\n",
    "\n",
    "Vim's interface is essentially a **programming language** by itself and a cobmination of commands / keys can be used to do a bunch of things.\n",
    "\n",
    "| Keys / Commands | Descriptions |\n",
    "| :-------------- | :----------- |\n",
    "| `<i>` | Goes into insert mode |\n",
    "| `<r>` | Goes into replace mode |\n",
    "| `<v>` | Goes into visual mode |\n",
    "| `<Shift-v>` | Goes into visual line mode |\n",
    "| `<Ctrl-v>` | Goes into visual block mode |\n",
    "| `<:>` | Goes into command-line mode |\n",
    "| `<esc>` | Returns to normal mode from above modes |\n",
    "| `vim` | Starts the Vim editor |\n",
    "| `vim <filename>` | Opens a file in Vim |\n",
    "| `<:w>` | Writes changes to file |\n",
    "| `<:tabnew>` | Creates a new tab in Vim |\n",
    "| `<:q>` | Closes the current window |\n",
    "| `<:qa>` | Closes all windows |\n",
    "| `<w> or <b>` | Moves the cursor by one word forward or backwards |\n",
    "| `<Ctrl-u> or <Ctrl-d>` | Moves the cursor page up or down |\n",
    "| `<f> or <t> <character>` | Finds or jumps to the first word that contains the given character after the cursor |\n",
    "| `<o>` | Opens a new line and goes into insert mode |\n",
    "| `<d-w>` | Deletes a word |\n",
    "| `<u>` | Undoes an action |\n",
    "| `<x>` | Deletes a character |\n",
    "| `<Ctrl-r>` | Redoes an action |\n",
    "| `<y> + <p>` | Copies (yank) + paste, use `<yy>` for copying the entire line |\n",
    "| `<number> + <key>` | Does an action by a number of times |\n",
    "\n",
    "<hr>"
   ]
  },
  {
   "cell_type": "markdown",
   "metadata": {},
   "source": [
    "# Basic code\n",
    "A `minimal, reproducible example`"
   ]
  },
  {
   "cell_type": "code",
   "execution_count": null,
   "metadata": {},
   "outputs": [],
   "source": []
  }
 ],
 "metadata": {
  "kernelspec": {
   "display_name": "Python 3",
   "language": "python",
   "name": "python3"
  },
  "language_info": {
   "codemirror_mode": {
    "name": "ipython",
    "version": 3
   },
   "file_extension": ".py",
   "mimetype": "text/x-python",
   "name": "python",
   "nbconvert_exporter": "python",
   "pygments_lexer": "ipython3",
   "version": "3.7.4"
  },
  "toc": {
   "base_numbering": 1,
   "nav_menu": {},
   "number_sections": true,
   "sideBar": true,
   "skip_h1_title": false,
   "title_cell": "Table of Contents",
   "title_sidebar": "Contents",
   "toc_cell": false,
   "toc_position": {},
   "toc_section_display": true,
   "toc_window_display": false
  }
 },
 "nbformat": 4,
 "nbformat_minor": 2
}
