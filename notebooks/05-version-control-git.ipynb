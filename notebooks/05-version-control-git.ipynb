{
 "cells": [
  {
   "cell_type": "markdown",
   "metadata": {
    "heading_collapsed": true
   },
   "source": [
    "# Version Control (Git)\n",
    "\n",
    "<hr>"
   ]
  },
  {
   "cell_type": "markdown",
   "metadata": {
    "heading_collapsed": true,
    "hidden": true
   },
   "source": [
    "## The design of git\n",
    "\n",
    "Git models the history of a collection of files and folders within some top-level directory as a series of snapshots. In Git terminology, a file is called a “blob”, and it’s just a bunch of bytes. A directory is called a “tree”, and it maps names to blobs or trees (so directories can contain other directories).\n",
    "\n",
    "```console\n",
    "<root> (tree)\n",
    "|\n",
    "+- foo (tree)\n",
    "|  |\n",
    "|  + bar.txt (blob, contents = \"hello world\")\n",
    "|\n",
    "+- baz.txt (blob, contents = \"git is wonderful\")\n",
    "```\n",
    "\n",
    "### Historical snapshots in Git\n",
    "\n",
    "One simple way to look at history is to consider a linear history which contains a list of snapshots in time-order:\n",
    "\n",
    "```console\n",
    "o <-- o <-- o <-- o\n",
    "```\n",
    "\n",
    "Each snapshot in Git refers to a set of “parents”, the snapshots that preceded it. It’s a set of parents rather than a single parent (as would be the case in a linear history) because a snapshot might descend from multiple parents, for example, due to combining (merging) two parallel branches of development.\n",
    "\n",
    "Git calls these snapshots “commit”s. Visualizing a commit history might look something like this:\n",
    "\n",
    "```console\n",
    "# Branching into two seperate streams\n",
    "# e.g. one to fix bug and one to create a new feature\n",
    "# parent <-- child\n",
    "\n",
    "o <-- o <-- o <-- o <---- o # +feature\n",
    "            ^            /\n",
    "             \\          v   # merging branch\n",
    "              --- o <-- o   # +bug fix\n",
    "```\n",
    "\n",
    "The `o`s correspond to individual commits (snapshots). The arrows point to the parent of each commit (it’s a “comes before” relation, not “comes after”). After the third commit, the history branches into two separate branches. \n",
    "\n",
    "This might correspond to, for example, two separate features being developed in parallel, independently from each other. In the future, these branches may be merged to create a new snapshot that incorporates both of the features.\n",
    "\n",
    "### Objects, references & repositories in Git\n",
    "\n",
    "An object is a tree, blob or commit. References are human-readable names to refer to hash strings (SHA-1) in Git. \n",
    "\n",
    "A git repository contains objects and references. Git commands map to some manipulation of the directed acyclic graph by adding objects and/or adding/updating references.\n",
    "\n",
    "****\n",
    "\n",
    "## Extras\n",
    "\n",
    "- **The 7 rules of a good commit message**\n",
    "\n",
    "    1. Separate subject from body with a blank line\n",
    "    2. Limit the subject line to 50 characters\n",
    "    3. Capitalize the subject line\n",
    "    4. Do not end the subject line with a period\n",
    "    5. Use the imperative mood in the subject line\n",
    "    6. Wrap the body at 72 characters\n",
    "    7. Use the body to explain what and why vs. how\n",
    "    \n",
    "    [How to write a good commit message?](https://cbea.ms/git-commit/#imperative)\n",
    "    \n",
    "    \n",
    "- **Structuring your Python project**\n",
    "\n",
    "    - Using `setup.py` ([for humans](https://github.com/kennethreitz/setup.py))\n",
    "    - [The Hitchhiker's Guide to Structuring Your Project](https://docs.python-guide.org/writing/structure/)\n",
    "    \n",
    "\n",
    "### Recommended reading(s)\n",
    "\n",
    "Refer to [Pro Git](https://git-scm.com/book/en/v2) for **highly recommended reading**.\n",
    "\n",
    "****\n",
    "\n",
    "*Useful command snippets*\n",
    "\n",
    "| Keys / Commands | Descriptions |\n",
    "| :-------------- | :----------- |\n",
    "| `git init` | Initialized an empty git repository in the working directory |\n",
    "| `git status` | Publishes the current status of the repository |\n",
    "| `git add <filename>` | Adds a file to staging area |\n",
    "| `git commit` | Commits files in the staging area |\n",
    "| `git log --oneline` | Displays a flattened, compact commit snapshot history with hash and commit message. Use flags such as `--graph`, `--decorate` as helpers |\n",
    "| `git checkout <commit_hash>` | Changes to the instance of a previous commit. `HEAD` will now point to this instance while `master` remains on the latest commit |\n",
    "| `git diff <filename>` | Displays changes made to file from last commit. Use `git diff <commit_hash> <filename>` for a specific commit comparison |\n",
    "| `git checkout <filename>` | Discards the changes made to the file based on `git diff` |\n",
    "| `git branch <branch_name>` | Creates a new branch |\n",
    "| `git checkout <branch_name>` | Switches to another branch |\n",
    "| `git checkout -b <branch_name>` | Creates and switches to new branch |\n",
    "| `git merge <branch_name>` | Merges current working branch with specified branch. Can use with multiple branches specifications |\n",
    "| `git remote -v` | Lists all remote repositories connected to the local repository |\n",
    "| `git remote add origin <url>` | Adds a remote repository to the local repository |\n",
    "| `git push origin <local_branch>:<remote_branch>` | Updates a remote branch with contents from a local branch |\n",
    "| `git clone <url> <destination_folder>` | Clones a remote repository into a destination folder locally |\n",
    "| `git fetch origin` | Fetches all changes from remote to local |\n",
    "| `git pull origin` | Fetches all changes from remote to local and merges current instance with latest instance |\n",
    "| `git blame <filename>` | Displays information about each line of the file's content: *what commit, who made the commit* |\n",
    "| `git show <hash>` | Shows more information about the changes made on the particular line made on the file |\n",
    "| `git stash` | Undoes the last change and stores it in memory. Use `git stash pop` to undo the earlier `git stash` |\n",
    "\n",
    "****"
   ]
  },
  {
   "cell_type": "markdown",
   "metadata": {},
   "source": [
    "# Basic code\n",
    "A `minimal, reproducible example`"
   ]
  },
  {
   "cell_type": "code",
   "execution_count": 1,
   "metadata": {
    "ExecuteTime": {
     "end_time": "2022-04-05T12:45:03.670863Z",
     "start_time": "2022-04-05T12:45:03.516961Z"
    }
   },
   "outputs": [
    {
     "name": "stdout",
     "output_type": "stream",
     "text": [
      "On branch main\r\n",
      "Your branch is up to date with 'origin/main'.\r\n",
      "\r\n",
      "Changes not staged for commit:\r\n",
      "  (use \"git add <file>...\" to update what will be committed)\r\n",
      "  (use \"git restore <file>...\" to discard changes in working directory)\r\n",
      "\t\u001b[31mmodified:   05-version-control-git.ipynb\u001b[m\r\n",
      "\r\n",
      "no changes added to commit (use \"git add\" and/or \"git commit -a\")\r\n"
     ]
    }
   ],
   "source": [
    "!git status"
   ]
  },
  {
   "cell_type": "code",
   "execution_count": 2,
   "metadata": {
    "ExecuteTime": {
     "end_time": "2022-04-05T12:45:03.820629Z",
     "start_time": "2022-04-05T12:45:03.683819Z"
    }
   },
   "outputs": [],
   "source": [
    "!git add --all"
   ]
  },
  {
   "cell_type": "code",
   "execution_count": 3,
   "metadata": {
    "ExecuteTime": {
     "end_time": "2022-04-05T12:45:03.958153Z",
     "start_time": "2022-04-05T12:45:03.825177Z"
    }
   },
   "outputs": [
    {
     "name": "stdout",
     "output_type": "stream",
     "text": [
      "On branch main\r\n",
      "Your branch is up to date with 'origin/main'.\r\n",
      "\r\n",
      "Changes to be committed:\r\n",
      "  (use \"git restore --staged <file>...\" to unstage)\r\n",
      "\t\u001b[32mmodified:   05-version-control-git.ipynb\u001b[m\r\n",
      "\r\n"
     ]
    }
   ],
   "source": [
    "!git status"
   ]
  },
  {
   "cell_type": "code",
   "execution_count": 4,
   "metadata": {
    "ExecuteTime": {
     "end_time": "2022-04-05T12:45:04.115611Z",
     "start_time": "2022-04-05T12:45:03.960162Z"
    }
   },
   "outputs": [
    {
     "name": "stdout",
     "output_type": "stream",
     "text": [
      "[main c05a506] Use Jupyter Notebook to commit changes\r\n",
      " 1 file changed, 101 insertions(+), 26 deletions(-)\r\n"
     ]
    }
   ],
   "source": [
    "!git commit -m \"Use Jupyter Notebook to commit changes\""
   ]
  },
  {
   "cell_type": "code",
   "execution_count": 5,
   "metadata": {
    "ExecuteTime": {
     "end_time": "2022-04-05T12:45:04.253976Z",
     "start_time": "2022-04-05T12:45:04.120912Z"
    }
   },
   "outputs": [
    {
     "name": "stdout",
     "output_type": "stream",
     "text": [
      "On branch main\r\n",
      "Your branch is ahead of 'origin/main' by 1 commit.\r\n",
      "  (use \"git push\" to publish your local commits)\r\n",
      "\r\n",
      "nothing to commit, working tree clean\r\n"
     ]
    }
   ],
   "source": [
    "!git status"
   ]
  },
  {
   "cell_type": "code",
   "execution_count": 6,
   "metadata": {
    "ExecuteTime": {
     "end_time": "2022-04-05T12:45:13.145266Z",
     "start_time": "2022-04-05T12:45:04.257124Z"
    }
   },
   "outputs": [
    {
     "name": "stdout",
     "output_type": "stream",
     "text": [
      "Enumerating objects: 7, done.\n",
      "Counting objects: 100% (7/7), done.\n",
      "Delta compression using up to 8 threads\n",
      "Compressing objects: 100% (4/4), done.\n",
      "Writing objects: 100% (4/4), 1.41 KiB | 1.41 MiB/s, done.\n",
      "Total 4 (delta 3), reused 0 (delta 0), pack-reused 0\n",
      "remote: Resolving deltas: 100% (3/3), completed with 3 local objects.\u001b[K\n",
      "To https://github.com/codedarrylcode/mit-missing-semester.git\n",
      "   cebf15c..c05a506  main -> main\n"
     ]
    }
   ],
   "source": [
    "!git push"
   ]
  }
 ],
 "metadata": {
  "kernelspec": {
   "display_name": "Python 3",
   "language": "python",
   "name": "python3"
  },
  "language_info": {
   "codemirror_mode": {
    "name": "ipython",
    "version": 3
   },
   "file_extension": ".py",
   "mimetype": "text/x-python",
   "name": "python",
   "nbconvert_exporter": "python",
   "pygments_lexer": "ipython3",
   "version": "3.7.4"
  },
  "toc": {
   "base_numbering": 1,
   "nav_menu": {},
   "number_sections": true,
   "sideBar": true,
   "skip_h1_title": false,
   "title_cell": "Table of Contents",
   "title_sidebar": "Contents",
   "toc_cell": false,
   "toc_position": {},
   "toc_section_display": true,
   "toc_window_display": false
  }
 },
 "nbformat": 4,
 "nbformat_minor": 2
}
