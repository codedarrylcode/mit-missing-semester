{
 "cells": [
  {
   "cell_type": "markdown",
   "metadata": {},
   "source": [
    "# Shell Tools & Scripting\n",
    "[Missing Semester Notes](https://missing.csail.mit.edu/2020/shell-tools/)\n",
    "\n",
    "<hr>"
   ]
  },
  {
   "cell_type": "markdown",
   "metadata": {},
   "source": [
    "## How to use the Shell for useful things?\n",
    "\n",
    "There are many useful things we can do with shell:\n",
    "\n",
    "- Typing `date` as a command returns the current date and timestamp\n",
    "- `echo` prints out the arguments given, say: `echo \"hello\"` returns `hello`\n",
    "    - `echo $PATH` returns all of the paths on machine where shell will search for programs\n",
    "    - `which echo` tells us which program would be executed if we ran `echo`\n",
    "- It is essentially a programming language (*see shell scripting below*) that can do things like while/for loops, conditionals, etc.\n",
    "\n",
    "\n",
    "## Absolute vs relative paths\n",
    "\n",
    "Absolute paths are paths that fully determine the location of a file (use `which <argument>`) whereas relative paths are paths that are relative to where the user is currently are.\n",
    "\n",
    "To navigate around, we can do the following:\n",
    "\n",
    "1. Navigate to a specific directory in the current path\n",
    "    \n",
    "    - Given a current path (run `pwd`) that says `/home/usr/folder1`\n",
    "    - Run `cd /home` brings us to the `home` directory directly\n",
    "    \n",
    "    \n",
    "2. Using `.` and `..`\n",
    "\n",
    "    - `cd ..` returns to the parent directory of the current path\n",
    "    - `cd ./home` returns to the home directory under the current path\n",
    "    - using `../../<directory_name>/<program_name>` allows us to navigate back into a specific directory name within the current path and runs a specific program in that directory    \n",
    "    \n",
    "    In general, when we run a program it is going to be working on the current working directory.\n",
    "\n",
    " \n",
    "3. Using `cd ~` brings us back to the home directory of the current working path and `cd ~/<path>` allows us to define paths starting from home directory\n",
    "\n",
    "\n",
    "4. Using `cd -` returns us to the previous directory we were in\n",
    "\n",
    "## Input / Output commands in shell\n",
    "\n",
    "1. Using `>` to output into a file\n",
    "\n",
    "    For example, if we run `echo \"Hello World\" > text_file.txt` then this will save `Hello World` into the file instead of an output in shell.\n",
    "    \n",
    "    To check the contents of the newly created text file, we can run `cat <filename>` and it will duplicate/print the content of the file.\n",
    "    \n",
    "    *Note: Using `>>` will append to the file instead*\n",
    "    \n",
    "\n",
    "2. Using `<` as an input command\n",
    "\n",
    "    Suppose we want to re-wire the contents of `text_file.txt` into another file, then we can run `cat < text_file.txt > new_text_file.txt`\n",
    "    \n",
    "    Shell will be asked to take the input from `text_file.txt` and output into `new_text_file.txt`\n",
    "    \n",
    "    \n",
    "3. Using `|` to link output to input\n",
    "\n",
    "    For example, using `ls -l` will list all files in the current working directory with information. If we run `tail -n1` then it outputs only the last line.\n",
    "    \n",
    "    We can wire these together by running `ls -l | tail -n1` which helps us to **read the output of the first command as the input to the second command**\n",
    "    \n",
    "    \n",
    "****\n",
    "\n",
    "## Being a super-user\n",
    "\n",
    "`sudo` which stands for `do as a super-user` allows us to execute/change things that requires `root` permissions.\n",
    "\n",
    "For example, changing the brightness of your laptop's screen with the shell will require root permissions. If we run `echo <brightness_num>` it will return `Permission denied` but `sudo` will help us overcome this:\n",
    "\n",
    "`echo <brightness_num> | sudo tee brightness`\n",
    "\n",
    "This takes `<brightness_num>` as an input and writes it as an output into `brightness` without root permissions.\n",
    "    \n",
    "****\n",
    "\n",
    "## Shell scripting\n",
    "\n",
    "- Assigning variables in shell:\n",
    "\n",
    "```console\n",
    "# Assigning a value to a variable\n",
    ">>> foo=bar\n",
    "\n",
    "# Retrieve the value of a variable using $\n",
    ">>> echo $foo\n",
    "bar\n",
    ">>> echo \"Value is $foo\"\n",
    "Value is bar\n",
    "\n",
    "# Spaces matter in shell\n",
    ">>> foo = bar\n",
    "zsh: command not found: foo\n",
    "```\n",
    "\n",
    "- Conditionals using or (`||`), and (`&&`)\n",
    "\n",
    "```console\n",
    ">>> false || echo \"Oops fail\"\n",
    "Oops fail\n",
    ">>> true || echo \"Will not be printed\"\n",
    ">>> true && echo \"Things went well\"\n",
    "Things went well\n",
    "```\n",
    "\n",
    "- Finding files using `*` and `?` (*Globbing*)\n",
    "\n",
    "```\n",
    "# Search for any .sh file\n",
    ">>> ls\n",
    "example.sh image.png project1 project42\n",
    ">>> ls *.sh\n",
    "example.sh\n",
    "\n",
    "# Using question marks allow us to define number of empty characters to glob\n",
    ">>> ls project?\n",
    "project42\n",
    "\n",
    "# Find all .py files in current directory and execute remove command\n",
    ">>> find . -name \"*.py\" -exec rm {} \\;\n",
    "```\n",
    "\n",
    "- Using `{}`\n",
    "\n",
    "```console\n",
    "# Copies project1 to project2\n",
    ">>> cp project{1,2} \n",
    "\n",
    "# Expands into the cartesian product of project{1,2}, test{1,2,3} and creates each file\n",
    ">>> touch project{1,2}/src/test/test{1,2,3}.py \n",
    "```\n",
    "\n",
    "****\n",
    "\n",
    "\n",
    "## Other useful commands\n",
    "\n",
    "| Commands | Descriptions |\n",
    "| :------- | :----------- |\n",
    "| `ls` | Lists all files in the current working directory |\n",
    "| `mv <current_file> <new_file>` | Move/rename the current file itself or its path |\n",
    "| `cp <file> <new_filepath>/<filename>` | Copies the file to a new path |\n",
    "| `rm <file>` | Removes the file from the directory (*can't remove directory*) |\n",
    "| `mkdir \"<foldername>\"` | Creates a directory in the current working directory |\n",
    "| `man <command>` | Displays more information about a command with its manual help page |\n",
    "| `CTRL + L` | Clears terminal and returns to top |\n",
    "| `cat <filename>` | Duplicates/prints the contents of the file |\n",
    "| `tail -n1` | Print the last line of the input | \n",
    "| `open <filename>` | Opens the file |\n",
    "| `tee <filename>` | Writes into the file and outputs the contents in shell |\n",
    "| `grep \"text\" <file_or_pathname>` | Searches for a substring in the file/path |\n",
    "| `convert <img_filename>.{png, jpg}` | Converts the image file from `.png` to `.jpg` |\n",
    "| `convert <filename{1, 2}.png> -delay <seconds> <animation.gif>` | Converts a series of images to a gif with delay defined |\n",
    "| `find . -name src -type d` | Recursively goes through the current directory `.` and look for all directories `d` with name `src` |\n",
    "| `echo $?` | Check if error exists `1` or none `0` for last executed command |\n",
    "| `rg \"import pandas\" -t py -C 5 ~/<folder_name>` | Ripgrep `rg` finds the substring in all `.py` files in the given folder name and displays 5 lines of context around the substring |\n",
    "| `tree` | Displays a tree of directories and files within path |\n",
    "| `broot` | Almost same as `tree` but a summarized version |\n",
    "| `brew install <command>` | Installs commands using homebrew |\n",
    "| `touch <file>` | Creates an empty file or Modifies file's timestamp to the latest, if file exists |\n",
    "| `diff <(ls <folder1> <(ls <folder2>)` | Check the difference in contents between two folders/files |\n",
    "| `man <command>` | Lists all the possible flags of a given command |\n",
    "\n",
    "<hr>"
   ]
  },
  {
   "cell_type": "markdown",
   "metadata": {},
   "source": [
    "# Basic code\n",
    "A `minimal, reproducible example`"
   ]
  },
  {
   "cell_type": "markdown",
   "metadata": {},
   "source": [
    "Using `!` to execute shell commands in Jupyter Notebooks"
   ]
  },
  {
   "cell_type": "code",
   "execution_count": 2,
   "metadata": {
    "ExecuteTime": {
     "end_time": "2022-01-18T08:19:54.502480Z",
     "start_time": "2022-01-18T08:19:54.377883Z"
    }
   },
   "outputs": [
    {
     "name": "stdout",
     "output_type": "stream",
     "text": [
      "/Users/legendarryl/Documents/projects/mit-missing-semester/notebooks\r\n"
     ]
    }
   ],
   "source": [
    "# Print working directory\n",
    "!pwd"
   ]
  },
  {
   "cell_type": "code",
   "execution_count": 3,
   "metadata": {
    "ExecuteTime": {
     "end_time": "2022-01-18T08:20:00.182732Z",
     "start_time": "2022-01-18T08:20:00.052668Z"
    }
   },
   "outputs": [
    {
     "name": "stdout",
     "output_type": "stream",
     "text": [
      "00-template.ipynb 01-shell.ipynb    \u001b[34massets\u001b[m\u001b[m\r\n"
     ]
    }
   ],
   "source": [
    "# List files\n",
    "!ls"
   ]
  },
  {
   "cell_type": "code",
   "execution_count": 6,
   "metadata": {
    "ExecuteTime": {
     "end_time": "2022-01-18T08:20:27.110523Z",
     "start_time": "2022-01-18T08:20:26.986878Z"
    }
   },
   "outputs": [
    {
     "name": "stdout",
     "output_type": "stream",
     "text": [
      "/Library/Frameworks/Python.framework/Versions/3.9/bin:/Users/legendarryl/opt/anaconda3/bin:/Users/legendarryl/opt/anaconda3/condabin:/usr/local/bin:/usr/bin:/bin:/usr/sbin:/sbin\r\n"
     ]
    }
   ],
   "source": [
    "# List all paths where it searches for programs\n",
    "!echo $PATH"
   ]
  }
 ],
 "metadata": {
  "kernelspec": {
   "display_name": "Python 3",
   "language": "python",
   "name": "python3"
  },
  "language_info": {
   "codemirror_mode": {
    "name": "ipython",
    "version": 3
   },
   "file_extension": ".py",
   "mimetype": "text/x-python",
   "name": "python",
   "nbconvert_exporter": "python",
   "pygments_lexer": "ipython3",
   "version": "3.7.4"
  },
  "toc": {
   "base_numbering": 1,
   "nav_menu": {},
   "number_sections": true,
   "sideBar": true,
   "skip_h1_title": false,
   "title_cell": "Table of Contents",
   "title_sidebar": "Contents",
   "toc_cell": false,
   "toc_position": {},
   "toc_section_display": true,
   "toc_window_display": false
  }
 },
 "nbformat": 4,
 "nbformat_minor": 2
}
