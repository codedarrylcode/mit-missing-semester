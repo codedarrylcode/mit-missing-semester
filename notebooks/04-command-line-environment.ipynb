{
 "cells": [
  {
   "cell_type": "markdown",
   "metadata": {},
   "source": [
    "# Command-line Environment\n",
    "\n",
    "<hr>"
   ]
  },
  {
   "cell_type": "markdown",
   "metadata": {},
   "source": [
    "## Using `.dotfiles`\n",
    "\n",
    "These are usually text-based configuration files. These files are typically hidden by default when running an `ls` command on the terminal. One common `.dotfile` is `.bashrc` which can be edited using `vim` or any text editor.\n",
    "\n",
    "Many `.dotfiles` include:\n",
    "\n",
    "- `bash` - ~/.bashrc, ~/.bash_profile\n",
    "- `git` - ~/.gitconfig, ~/.gitignore\n",
    "- `vim` - ~/.vimrc and the ~/.vim folder\n",
    "- `ssh` - ~/.ssh/config\n",
    "- `tmux` - ~/.tmux.conf\n",
    "\n",
    "A general-purpose dotfiles utilities guide page can be found [here](https://dotfiles.github.io/tutorials/).\n",
    "\n",
    "****\n",
    "\n",
    "## Working with remote machines\n",
    "\n",
    "If you need to use remote servers in order to deploy backend software or you need a server with higher computational capabilities, you will end up using a Secure Shell (SSH).\n",
    "\n",
    "To `ssh` into a server, execute a command as follows:\n",
    "\n",
    "```console\n",
    "# Server name can be in text or IP address\n",
    "ssh username@servername\n",
    "```\n",
    "\n",
    "### Dealing with SSH keys\n",
    "\n",
    "Key-based authentication exploits public-key cryptography to prove to the server that the client owns the secret private key without revealing the key. This way you do not need to reenter your password every time. Nevertheless, the private key (often `~/.ssh/id_rsa` and more recently `~/.ssh/id_ed25519`) is effectively your password, so treat it like so.\n",
    "\n",
    "- Generating a key-pair\n",
    "\n",
    "```console\n",
    "ssh-keygen -o -a 100 -t ed25519 -f ~/.ssh/id_ed25519\n",
    "```\n",
    "\n",
    "- Using SSH configurationin a `.dotfile`\n",
    "\n",
    "```console\n",
    "# Create config file to set an alias for a given RM\n",
    "vim config\n",
    "\n",
    "# The config file should contain a given alias with these details\n",
    "Host <alias>\n",
    "    User foobar\n",
    "    HostName 172.16.174.141\n",
    "    Port 2222\n",
    "    IdentityFile ~/.ssh/id_ed25519\n",
    "    LocalForward 9999 localhost:8888\n",
    "\n",
    "# Now copy the config file into ~/.ssh\n",
    "cp config ~/.ssh\n",
    "\n",
    "# Now we can enter the RM with the <alias> given\n",
    "ssh <alias>\n",
    "```\n",
    "\n",
    "****\n",
    "\n",
    "*Useful command snippets*\n",
    "\n",
    "| Keys / Commands | Descriptions |\n",
    "| :-------------- | :----------- |\n",
    "| `alias <alias_name>=\"<command>\"` | Remaps a command into an alias, use `alias <alias_name>` to find out what the alias does |\n",
    "| `unalias <alias_name>` | To disable an alias |\n",
    "| `ssh <user>@<server> <command>` | Running a command in the remote machine |\n",
    "| `scp <filename> <user>@<server>:<filename>` | SSH copy a local file into the remote machine |\n",
    "\n",
    "\n",
    "****"
   ]
  },
  {
   "cell_type": "markdown",
   "metadata": {},
   "source": [
    "# Basic code\n",
    "A `minimal, reproducible example`"
   ]
  },
  {
   "cell_type": "code",
   "execution_count": null,
   "metadata": {},
   "outputs": [],
   "source": []
  }
 ],
 "metadata": {
  "kernelspec": {
   "display_name": "Python 3",
   "language": "python",
   "name": "python3"
  },
  "language_info": {
   "codemirror_mode": {
    "name": "ipython",
    "version": 3
   },
   "file_extension": ".py",
   "mimetype": "text/x-python",
   "name": "python",
   "nbconvert_exporter": "python",
   "pygments_lexer": "ipython3",
   "version": "3.7.4"
  },
  "toc": {
   "base_numbering": 1,
   "nav_menu": {},
   "number_sections": true,
   "sideBar": true,
   "skip_h1_title": false,
   "title_cell": "Table of Contents",
   "title_sidebar": "Contents",
   "toc_cell": false,
   "toc_position": {},
   "toc_section_display": true,
   "toc_window_display": false
  }
 },
 "nbformat": 4,
 "nbformat_minor": 2
}
