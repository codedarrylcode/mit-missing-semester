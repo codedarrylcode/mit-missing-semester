{
 "cells": [
  {
   "cell_type": "markdown",
   "metadata": {},
   "source": [
    "# Data Wrangling\n",
    "\n",
    "<hr>"
   ]
  },
  {
   "cell_type": "markdown",
   "metadata": {},
   "source": [
    "## Useful examples/snippets\n",
    "\n",
    "Consider using [regex101](https://regex101.com/) to decompose commands\n",
    "\n",
    "- Take an input from the remote machine and finds the keywords using `grep`\n",
    "\n",
    "```console\n",
    "# Find the output lines with the keywords\n",
    "ssh <remote_machine> <command> | grep \"Disconnected from\"\n",
    "\n",
    "# Find output lines with keywords and display first five lines\n",
    "ssh <remote_machine> <command> | grep \"Disconnected from\" | head -n5\n",
    "```\n",
    "\n",
    "- Using `sed` to replace characters with blanks\n",
    "\n",
    "```console\n",
    "# Removes the first character that matches with the search pattern\n",
    "echo `aba` | sed `s/[ab]//`\n",
    "> ba\n",
    "\n",
    "# Remove anything that contains the characters\n",
    "echo `aba` | sed `s/[ab]//g`\n",
    "\n",
    "# Remove anything that contains both characters\n",
    "## -E forces sed to use modern regex syntax\n",
    "echo `abcaba` | sed -E `s/(ab)*//g`\n",
    "> ca\n",
    "\n",
    "# Either ab or bc to be removed\n",
    "echo `abcababc` | sed -E 's/(ab|bc)*//g'\n",
    "cc\n",
    "```\n",
    "\n",
    "- Using `(.*)` to capture a substring\n",
    "\n",
    "```console\n",
    "# Using \\2 to capture and return the second capturing group\n",
    "cat ssh.log | sed -E 's/.*Disconnected from (invalid | authenticating )?user (.*) [0-9]+/\\2/'\n",
    "```\n",
    "\n",
    "\n",
    "****\n",
    "\n",
    "*Useful command snippets*\n",
    "\n",
    "| Keys / Commands | Descriptions |\n",
    "| :-------------- | :----------- |\n",
    "| `ssh <remote_machine> <command>` | Access a remote machine and runs a command |\n",
    "| `sed 's/.*<keyword>/<replacement_word>/'` | Stream editor that searches for a keyword from an input and replaces the keyword and the stuff before using `.*` | \n",
    "| `wc -l` | Word count for number of lines |\n",
    "| `sort` | Sorts output in order |\n",
    "| `uniq` | Outputs only unique results |\n",
    "| `uniq -c` | Counts instances of each unique result |\n",
    "| `awk '<command>'` | Edits columnar text, e.g. `awk '{print $2}'` prints the second column as seperated by a whitespace |\n",
    "| <code>uniq -c &#124; awk '$1 == 1 && $2 - /^c.*e$/ {print $0}'</code> | Find output with 1 count that starts with c and ends with e and print the entire line |\n",
    "| `bc -l` | A berkeley calculator that counts lines from output\n",
    "| `paste -sd+` | Paste every line together with a plus expression, use together with berkeley calculator to sum numbers |\n",
    "\n",
    "\n",
    "****"
   ]
  },
  {
   "cell_type": "markdown",
   "metadata": {},
   "source": [
    "# Basic code\n",
    "A `minimal, reproducible example`"
   ]
  },
  {
   "cell_type": "code",
   "execution_count": null,
   "metadata": {},
   "outputs": [],
   "source": []
  }
 ],
 "metadata": {
  "kernelspec": {
   "display_name": "Python 3",
   "language": "python",
   "name": "python3"
  },
  "language_info": {
   "codemirror_mode": {
    "name": "ipython",
    "version": 3
   },
   "file_extension": ".py",
   "mimetype": "text/x-python",
   "name": "python",
   "nbconvert_exporter": "python",
   "pygments_lexer": "ipython3",
   "version": "3.7.4"
  },
  "toc": {
   "base_numbering": 1,
   "nav_menu": {},
   "number_sections": true,
   "sideBar": true,
   "skip_h1_title": false,
   "title_cell": "Table of Contents",
   "title_sidebar": "Contents",
   "toc_cell": false,
   "toc_position": {},
   "toc_section_display": true,
   "toc_window_display": false
  }
 },
 "nbformat": 4,
 "nbformat_minor": 2
}
